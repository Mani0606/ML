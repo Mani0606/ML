{
 "cells": [
  {
   "cell_type": "code",
   "execution_count": 30,
   "metadata": {},
   "outputs": [],
   "source": [
    "import pandas as ps\n",
    "import numpy as np\n",
    "from matplotlib import pyplot as pylot\n",
    "from sklearn.model_selection import train_test_split\n",
    "from sklearn.svm import SVC\n",
    "from sklearn.datasets import load_digits"
   ]
  },
  {
   "cell_type": "code",
   "execution_count": 9,
   "metadata": {},
   "outputs": [
    {
     "data": {
      "text/plain": [
       "['DESCR', 'data', 'feature_names', 'frame', 'images', 'target', 'target_names']"
      ]
     },
     "execution_count": 9,
     "metadata": {},
     "output_type": "execute_result"
    }
   ],
   "source": [
    "digits = load_digits()\n",
    "dir(digits)"
   ]
  },
  {
   "cell_type": "code",
   "execution_count": 12,
   "metadata": {},
   "outputs": [
    {
     "data": {
      "text/plain": [
       "array([[ 0.,  0.,  5., 13.,  9.,  1.,  0.,  0.,  0.,  0., 13., 15., 10.,\n",
       "        15.,  5.,  0.,  0.,  3., 15.,  2.,  0., 11.,  8.,  0.,  0.,  4.,\n",
       "        12.,  0.,  0.,  8.,  8.,  0.,  0.,  5.,  8.,  0.,  0.,  9.,  8.,\n",
       "         0.,  0.,  4., 11.,  0.,  1., 12.,  7.,  0.,  0.,  2., 14.,  5.,\n",
       "        10., 12.,  0.,  0.,  0.,  0.,  6., 13., 10.,  0.,  0.,  0.],\n",
       "       [ 0.,  0.,  0., 12., 13.,  5.,  0.,  0.,  0.,  0.,  0., 11., 16.,\n",
       "         9.,  0.,  0.,  0.,  0.,  3., 15., 16.,  6.,  0.,  0.,  0.,  7.,\n",
       "        15., 16., 16.,  2.,  0.,  0.,  0.,  0.,  1., 16., 16.,  3.,  0.,\n",
       "         0.,  0.,  0.,  1., 16., 16.,  6.,  0.,  0.,  0.,  0.,  1., 16.,\n",
       "        16.,  6.,  0.,  0.,  0.,  0.,  0., 11., 16., 10.,  0.,  0.]])"
      ]
     },
     "execution_count": 12,
     "metadata": {},
     "output_type": "execute_result"
    }
   ],
   "source": [
    "digits.data[0:2]"
   ]
  },
  {
   "cell_type": "code",
   "execution_count": 80,
   "metadata": {},
   "outputs": [
    {
     "data": {
      "text/plain": [
       "<matplotlib.image.AxesImage at 0x20f1a61bf10>"
      ]
     },
     "execution_count": 80,
     "metadata": {},
     "output_type": "execute_result"
    },
    {
     "data": {
      "text/plain": [
       "<Figure size 432x288 with 0 Axes>"
      ]
     },
     "metadata": {},
     "output_type": "display_data"
    },
    {
     "data": {
      "image/png": "[encoded data removed]",
      "text/plain": [
       "<Figure size 288x288 with 1 Axes>"
      ]
     },
     "metadata": {
      "needs_background": "light"
     },
     "output_type": "display_data"
    }
   ],
   "source": [
    "pylot.gray()\n",
    "pylot.matshow(digits.images[100])"
   ]
  },
  {
   "cell_type": "code",
   "execution_count": 27,
   "metadata": {},
   "outputs": [
    {
     "data": {
      "text/plain": [
       "array([0, 1, 2, 3, 4])"
      ]
     },
     "execution_count": 27,
     "metadata": {},
     "output_type": "execute_result"
    }
   ],
   "source": [
    "digits.target_names[0:5]"
   ]
  },
  {
   "cell_type": "code",
   "execution_count": 72,
   "metadata": {},
   "outputs": [],
   "source": [
    "x_train,x_test,y_train,y_test = train_test_split(digits.data,digits.target,test_size=0.2)"
   ]
  },
  {
   "cell_type": "code",
   "execution_count": 73,
   "metadata": {},
   "outputs": [
    {
     "data": {
      "text/plain": [
       "0.9805555555555555"
      ]
     },
     "execution_count": 73,
     "metadata": {},
     "output_type": "execute_result"
    }
   ],
   "source": [
    "#Here I am Using Different Kernals to see the Accuracy of the models\n",
    "#first I am using Linear\n",
    "reg=SVC(kernel='linear')\n",
    "reg.fit(x_train,y_train)\n",
    "reg.score(x_test,y_test)"
   ]
  },
  {
   "cell_type": "code",
   "execution_count": 74,
   "metadata": {},
   "outputs": [
    {
     "data": {
      "text/plain": [
       "0.9861111111111112"
      ]
     },
     "execution_count": 74,
     "metadata": {},
     "output_type": "execute_result"
    }
   ],
   "source": [
    "#Here I am using rdf \n",
    "model = SVC(kernel='rbf')\n",
    "model.fit(x_train,y_train)\n",
    "model.score(x_test,y_test)"
   ]
  },
  {
   "cell_type": "markdown",
   "metadata": {},
   "source": [
    "#As ypu can see both of them not given same \"Score\""
   ]
  },
  {
   "cell_type": "code",
   "execution_count": 75,
   "metadata": {},
   "outputs": [
    {
     "name": "stdout",
     "output_type": "stream",
     "text": [
      "1,9,9,5,2,3,6,6,7,8,0,0,5,3,7,4,7,2,3,5,3,1,3,6,1,5,1,5,7,3,0,3,9,8,1,2,7,4,9,8,4,3,4,1,5,1,0,9,9,2,6,4,6,0,4,1,3,9,3,3,6,4,0,7,0,6,5,4,0,5,2,3,4,7,1,5,2,1,5,4,9,9,5,4,7,7,9,1,7,6,0,3,0,5,1,8,2,8,8,0,2,3,2,6,7,8,1,4,2,5,8,3,6,7,7,6,9,5,8,5,6,5,9,9,7,1,7,2,5,5,1,6,7,8,4,7,0,8,4,5,5,8,8,0,4,1,7,7,6,4,4,9,2,3,5,5,4,1,0,5,0,2,4,3,3,9,8,8,6,7,6,4,4,6,6,7,8,3,1,6,9,7,3,7,1,6,2,7,0,7,6,6,3,9,5,7,1,5,5,5,6,5,6,3,4,5,8,2,3,9,2,1,7,1,4,8,4,6,2,0,3,5,8,5,0,2,0,0,8,7,0,3,0,3,0,4,5,9,4,6,6,9,1,7,6,9,9,3,1,2,9,7,7,6,2,4,3,0,4,1,0,6,3,2,7,5,1,6,7,8,4,5,6,7,5,3,2,9,4,7,7,8,6,2,3,8,2,7,1,5,6,4,5,9,7,2,2,4,0,3,5,7,9,1,9,1,9,5,7,7,8,0,0,9,6,0,8,0,4,8,8,6,1,3,5,1,9,2,0,7,2,1,2,7,3,1,5,0,5,4,2,4,0,2,0,1,4,9,2,3,3,9,8,0,8,3,2,8,1,4,"
     ]
    }
   ],
   "source": [
    "pre=reg.predict(x_test)\n",
    "for i in pre:\n",
    "    print(i,end=\",\")"
   ]
  },
  {
   "cell_type": "code",
   "execution_count": 81,
   "metadata": {},
   "outputs": [
    {
     "name": "stdout",
     "output_type": "stream",
     "text": [
      "1,9,9,5,2,3,6,6,7,8,0,0,5,3,7,4,7,2,3,5,3,1,3,6,1,5,1,5,7,3,0,3,9,8,1,2,7,4,9,8,4,3,4,1,5,1,0,9,9,2,6,4,6,0,4,1,3,9,3,3,6,4,0,7,0,6,5,4,0,5,2,3,4,7,1,5,2,1,5,4,9,9,5,7,7,7,9,1,7,6,0,3,0,5,1,8,2,8,8,0,2,3,2,6,7,8,1,4,2,5,8,3,6,7,7,6,9,5,8,5,6,5,9,9,7,1,7,2,5,5,1,6,7,8,4,9,0,8,4,5,5,8,8,0,4,8,7,7,6,4,4,9,2,3,5,5,4,1,0,5,0,2,4,3,3,9,8,8,6,7,6,4,4,6,6,7,8,3,1,6,9,7,3,7,8,6,2,7,0,7,6,6,3,9,5,7,1,5,5,5,6,5,6,3,4,5,8,2,3,9,2,1,7,1,4,8,4,6,2,0,3,5,8,5,0,2,0,0,8,7,0,3,0,3,0,4,5,9,4,6,6,9,1,7,6,9,9,3,1,2,9,7,7,6,2,4,3,0,4,1,0,6,3,2,7,5,1,6,7,8,4,5,6,7,5,3,2,9,4,7,7,8,6,2,3,8,2,7,6,5,6,4,5,9,7,2,2,4,0,3,5,7,9,1,9,1,9,5,7,7,8,0,0,9,6,0,8,0,4,8,8,6,1,3,5,1,9,2,0,7,2,1,2,7,3,1,6,0,5,4,2,4,0,2,0,1,4,9,2,3,3,9,8,0,8,3,2,8,1,4,"
     ]
    }
   ],
   "source": [
    "mod = model.predict(x_test)\n",
    "for i in mod:\n",
    "    print(i,end=\",\")"
   ]
  }
 ],
 "metadata": {
  "kernelspec": {
   "display_name": "Python 3",
   "language": "python",
   "name": "python3"
  },
  "language_info": {
   "codemirror_mode": {
    "name": "ipython",
    "version": 3
   },
   "file_extension": ".py",
   "mimetype": "text/x-python",
   "name": "python",
   "nbconvert_exporter": "python",
   "pygments_lexer": "ipython3",
   "version": "3.10.5"
  },
  "orig_nbformat": 4
 },
 "nbformat": 4,
 "nbformat_minor": 2
}
