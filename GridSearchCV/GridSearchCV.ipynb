{
 "cells": [
  {
   "cell_type": "code",
   "execution_count": 54,
   "metadata": {},
   "outputs": [],
   "source": [
    "import pandas as ps\n",
    "from sklearn.linear_model import LogisticRegression\n",
    "from sklearn.svm import SVC\n",
    "from sklearn.tree import DecisionTreeClassifier\n",
    "from sklearn.ensemble import RandomForestClassifier\n",
    "from sklearn.naive_bayes import GaussianNB\n",
    "from sklearn.naive_bayes import MultinomialNB\n",
    "from sklearn.model_selection import GridSearchCV\n",
    "from sklearn.datasets import load_digits"
   ]
  },
  {
   "cell_type": "code",
   "execution_count": 8,
   "metadata": {},
   "outputs": [
    {
     "data": {
      "text/plain": [
       "['DESCR', 'data', 'feature_names', 'frame', 'images', 'target', 'target_names']"
      ]
     },
     "execution_count": 8,
     "metadata": {},
     "output_type": "execute_result"
    }
   ],
   "source": [
    "digits = load_digits()\n",
    "dir(digits)"
   ]
  },
  {
   "cell_type": "code",
   "execution_count": 11,
   "metadata": {},
   "outputs": [
    {
     "data": {
      "text/plain": [
       "array([0, 1, 2, ..., 8, 9, 8])"
      ]
     },
     "execution_count": 11,
     "metadata": {},
     "output_type": "execute_result"
    }
   ],
   "source": [
    "digits.target"
   ]
  },
  {
   "cell_type": "code",
   "execution_count": 38,
   "metadata": {},
   "outputs": [],
   "source": [
    "model1 = {\n",
    "    'svm':{\n",
    "        'model':SVC(gamma='auto'),'para':{\n",
    "            'C':[1,10,20],'kernel':['rbf','linear']\n",
    "        }\n",
    "    },\n",
    "    'RandomForestClassifier':{\n",
    "        'model':RandomForestClassifier(),'para':{\n",
    "            'n_estimators':[20,30,40]\n",
    "        }\n",
    "    },\n",
    "    'LogisticRegression':{\n",
    "        'model':LogisticRegression(solver='liblinear',multi_class='auto'),'para':{\n",
    "            'C':[1,4,10]\n",
    "        }\n",
    "    },\n",
    "    'DecisionTreeClassifier':{\n",
    "        'model':DecisionTreeClassifier(splitter='random'),'para':{\n",
    "            'max_depth':[10,15,20],\n",
    "            'criterion':['entropy','log_loss']\n",
    "        }\n",
    "    },\n",
    "    'GaussianNB':{\n",
    "        'model':GaussianNB(),'para':{\n",
    "            'var_smoothing':[2.1,3.5,6.8]\n",
    "        }\n",
    "    },\n",
    "    'MultinomialNB':{\n",
    "        'model':MultinomialNB(),'para':{\n",
    "            'alpha':[2.4,5.6,7.8]\n",
    "        }\n",
    "    }\n",
    "}"
   ]
  },
  {
   "cell_type": "code",
   "execution_count": 52,
   "metadata": {},
   "outputs": [
    {
     "name": "stdout",
     "output_type": "stream",
     "text": [
      "{'C': 1, 'kernel': 'linear'}\n",
      "{'n_estimators': 40}\n",
      "{'C': 1}\n",
      "{'criterion': 'entropy', 'max_depth': 20}\n",
      "{'var_smoothing': 2.1}\n",
      "{'alpha': 5.6}\n"
     ]
    }
   ],
   "source": [
    "scores = []\n",
    "for model_name,mp in model1.items():\n",
    "    clf=GridSearchCV(mp['model'],mp['para'],cv=5,return_train_score=False)\n",
    "    clf.fit(digits.data,digits.target)\n",
    "    scores.append({\n",
    "        'model_name':model_name,\n",
    "        'best_score':clf.best_score_,\n",
    "        'best_Parameters':clf.best_params_\n",
    "    })\n",
    "    print(clf.best_params_)"
   ]
  },
  {
   "cell_type": "code",
   "execution_count": 53,
   "metadata": {},
   "outputs": [
    {
     "data": {
      "text/html": [
       "<div>\n",
       "<style scoped>\n",
       "    .dataframe tbody tr th:only-of-type {\n",
       "        vertical-align: middle;\n",
       "    }\n",
       "\n",
       "    .dataframe tbody tr th {\n",
       "        vertical-align: top;\n",
       "    }\n",
       "\n",
       "    .dataframe thead th {\n",
       "        text-align: right;\n",
       "    }\n",
       "</style>\n",
       "<table border=\"1\" class=\"dataframe\">\n",
       "  <thead>\n",
       "    <tr style=\"text-align: right;\">\n",
       "      <th></th>\n",
       "      <th>model_name</th>\n",
       "      <th>best_score</th>\n",
       "      <th>best_parameters</th>\n",
       "    </tr>\n",
       "  </thead>\n",
       "  <tbody>\n",
       "    <tr>\n",
       "      <th>0</th>\n",
       "      <td>svm</td>\n",
       "      <td>0.947697</td>\n",
       "      <td>NaN</td>\n",
       "    </tr>\n",
       "    <tr>\n",
       "      <th>1</th>\n",
       "      <td>RandomForestClassifier</td>\n",
       "      <td>0.934903</td>\n",
       "      <td>NaN</td>\n",
       "    </tr>\n",
       "    <tr>\n",
       "      <th>2</th>\n",
       "      <td>LogisticRegression</td>\n",
       "      <td>0.922114</td>\n",
       "      <td>NaN</td>\n",
       "    </tr>\n",
       "    <tr>\n",
       "      <th>3</th>\n",
       "      <td>DecisionTreeClassifier</td>\n",
       "      <td>0.805850</td>\n",
       "      <td>NaN</td>\n",
       "    </tr>\n",
       "    <tr>\n",
       "      <th>4</th>\n",
       "      <td>GaussianNB</td>\n",
       "      <td>0.873123</td>\n",
       "      <td>NaN</td>\n",
       "    </tr>\n",
       "    <tr>\n",
       "      <th>5</th>\n",
       "      <td>MultinomialNB</td>\n",
       "      <td>0.873691</td>\n",
       "      <td>NaN</td>\n",
       "    </tr>\n",
       "  </tbody>\n",
       "</table>\n",
       "</div>"
      ],
      "text/plain": [
       "               model_name  best_score  best_parameters\n",
       "0                     svm    0.947697              NaN\n",
       "1  RandomForestClassifier    0.934903              NaN\n",
       "2      LogisticRegression    0.922114              NaN\n",
       "3  DecisionTreeClassifier    0.805850              NaN\n",
       "4              GaussianNB    0.873123              NaN\n",
       "5           MultinomialNB    0.873691              NaN"
      ]
     },
     "execution_count": 53,
     "metadata": {},
     "output_type": "execute_result"
    }
   ],
   "source": [
    "df = ps.DataFrame(scores,columns=['model_name','best_score','best_parameters'])\n",
    "df"
   ]
  },
  {
   "cell_type": "code",
   "execution_count": 48,
   "metadata": {},
   "outputs": [
    {
     "data": {
      "text/html": [
       "<div>\n",
       "<style scoped>\n",
       "    .dataframe tbody tr th:only-of-type {\n",
       "        vertical-align: middle;\n",
       "    }\n",
       "\n",
       "    .dataframe tbody tr th {\n",
       "        vertical-align: top;\n",
       "    }\n",
       "\n",
       "    .dataframe thead th {\n",
       "        text-align: right;\n",
       "    }\n",
       "</style>\n",
       "<table border=\"1\" class=\"dataframe\">\n",
       "  <thead>\n",
       "    <tr style=\"text-align: right;\">\n",
       "      <th></th>\n",
       "      <th>mean_fit_time</th>\n",
       "      <th>std_fit_time</th>\n",
       "      <th>mean_score_time</th>\n",
       "      <th>std_score_time</th>\n",
       "      <th>param_alpha</th>\n",
       "      <th>params</th>\n",
       "      <th>split0_test_score</th>\n",
       "      <th>split1_test_score</th>\n",
       "      <th>split2_test_score</th>\n",
       "      <th>split3_test_score</th>\n",
       "      <th>split4_test_score</th>\n",
       "      <th>mean_test_score</th>\n",
       "      <th>std_test_score</th>\n",
       "      <th>rank_test_score</th>\n",
       "    </tr>\n",
       "  </thead>\n",
       "  <tbody>\n",
       "    <tr>\n",
       "      <th>0</th>\n",
       "      <td>0.001000</td>\n",
       "      <td>4.101908e-07</td>\n",
       "      <td>0.000804</td>\n",
       "      <td>0.000402</td>\n",
       "      <td>2.4</td>\n",
       "      <td>{'alpha': 2.4}</td>\n",
       "      <td>0.886111</td>\n",
       "      <td>0.836111</td>\n",
       "      <td>0.857939</td>\n",
       "      <td>0.941504</td>\n",
       "      <td>0.838440</td>\n",
       "      <td>0.872021</td>\n",
       "      <td>0.039095</td>\n",
       "      <td>3</td>\n",
       "    </tr>\n",
       "    <tr>\n",
       "      <th>1</th>\n",
       "      <td>0.001597</td>\n",
       "      <td>7.991628e-04</td>\n",
       "      <td>0.000200</td>\n",
       "      <td>0.000400</td>\n",
       "      <td>5.6</td>\n",
       "      <td>{'alpha': 5.6}</td>\n",
       "      <td>0.886111</td>\n",
       "      <td>0.838889</td>\n",
       "      <td>0.857939</td>\n",
       "      <td>0.944290</td>\n",
       "      <td>0.841226</td>\n",
       "      <td>0.873691</td>\n",
       "      <td>0.039120</td>\n",
       "      <td>1</td>\n",
       "    </tr>\n",
       "    <tr>\n",
       "      <th>2</th>\n",
       "      <td>0.001201</td>\n",
       "      <td>4.041220e-04</td>\n",
       "      <td>0.000200</td>\n",
       "      <td>0.000400</td>\n",
       "      <td>7.8</td>\n",
       "      <td>{'alpha': 7.8}</td>\n",
       "      <td>0.886111</td>\n",
       "      <td>0.838889</td>\n",
       "      <td>0.857939</td>\n",
       "      <td>0.944290</td>\n",
       "      <td>0.841226</td>\n",
       "      <td>0.873691</td>\n",
       "      <td>0.039120</td>\n",
       "      <td>1</td>\n",
       "    </tr>\n",
       "  </tbody>\n",
       "</table>\n",
       "</div>"
      ],
      "text/plain": [
       "   mean_fit_time  std_fit_time  mean_score_time  std_score_time param_alpha  \\\n",
       "0       0.001000  4.101908e-07         0.000804        0.000402         2.4   \n",
       "1       0.001597  7.991628e-04         0.000200        0.000400         5.6   \n",
       "2       0.001201  4.041220e-04         0.000200        0.000400         7.8   \n",
       "\n",
       "           params  split0_test_score  split1_test_score  split2_test_score  \\\n",
       "0  {'alpha': 2.4}           0.886111           0.836111           0.857939   \n",
       "1  {'alpha': 5.6}           0.886111           0.838889           0.857939   \n",
       "2  {'alpha': 7.8}           0.886111           0.838889           0.857939   \n",
       "\n",
       "   split3_test_score  split4_test_score  mean_test_score  std_test_score  \\\n",
       "0           0.941504           0.838440         0.872021        0.039095   \n",
       "1           0.944290           0.841226         0.873691        0.039120   \n",
       "2           0.944290           0.841226         0.873691        0.039120   \n",
       "\n",
       "   rank_test_score  \n",
       "0                3  \n",
       "1                1  \n",
       "2                1  "
      ]
     },
     "execution_count": 48,
     "metadata": {},
     "output_type": "execute_result"
    }
   ],
   "source": [
    "ds = ps.DataFrame(clf.cv_results_)\n",
    "ds"
   ]
  }
 ],
 "metadata": {
  "kernelspec": {
   "display_name": "Python 3",
   "language": "python",
   "name": "python3"
  },
  "language_info": {
   "codemirror_mode": {
    "name": "ipython",
    "version": 3
   },
   "file_extension": ".py",
   "mimetype": "text/x-python",
   "name": "python",
   "nbconvert_exporter": "python",
   "pygments_lexer": "ipython3",
   "version": "3.10.5"
  },
  "orig_nbformat": 4
 },
 "nbformat": 4,
 "nbformat_minor": 2
}
